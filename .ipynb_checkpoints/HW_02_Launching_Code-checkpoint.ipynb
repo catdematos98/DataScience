{
 "cells": [
  {
   "cell_type": "code",
   "execution_count": 1,
   "metadata": {},
   "outputs": [],
   "source": [
    "# Author: Catarina DeMatos\n",
    "# Date: 20200205\n",
    "# CS301-006, Professor Watson\n",
    "# HW02 Solution\n",
    "# 2 method of interpolation to calculate the quantile\n",
    "# link to the git repo (https://github.com/catdematos98/HW02)\n",
    "# https://github.com/catdematos98/HW02/blob/master/.ipynb_checkpoints/HW_02_Launching_Code-checkpoint.ipynb\n",
    "# name-of-the-branch (master)"
   ]
  },
  {
   "cell_type": "markdown",
   "metadata": {},
   "source": [
    "## HW 02 - Base Code to Start"
   ]
  },
  {
   "cell_type": "markdown",
   "metadata": {},
   "source": [
    "#### Use these two samples to test your functions"
   ]
  },
  {
   "cell_type": "code",
   "execution_count": 2,
   "metadata": {},
   "outputs": [],
   "source": [
    "grades = [0, 0, 14, 35, 63, 66, 75, 77, 78, 80, 81, 81, 87, 89, 90, 91, 100]"
   ]
  },
  {
   "cell_type": "code",
   "execution_count": 3,
   "metadata": {},
   "outputs": [],
   "source": [
    "times = [5, 10, 10, 15, 15, 15, 15, 20, 20, 20, 25, 30, 30, 40, 40, 45, 60, 60, 65, 89]"
   ]
  },
  {
   "cell_type": "markdown",
   "metadata": {},
   "source": [
    "### Please answer Problem 2 below:"
   ]
  },
  {
   "cell_type": "code",
   "execution_count": 4,
   "metadata": {},
   "outputs": [],
   "source": [
    "import numpy\n",
    "\n",
    "def  q_summary_V1(ds):\n",
    "    #find quartiles\n",
    "    q1 = numpy.quantile(ds, .25) \n",
    "    q2 = numpy.quantile(ds, .50)\n",
    "    q3 = numpy.quantile(ds, .75)\n",
    "    \n",
    "    #get IQR\n",
    "    iqr = q3-q1\n",
    "    upper = q3+1.5*iqr\n",
    "    lower = q1-1.5*iqr\n",
    "    o=[]\n",
    "    \n",
    "    #get list of outliers\n",
    "    for num in ds:\n",
    "        if num < lower or num > upper:\n",
    "            o.append(num)\n",
    "    \n",
    "    #remove outliers from ds\n",
    "    res = [i for i in ds if i not in o] \n",
    "    if len(o) != 0: \n",
    "        print(\"The following are outliers: \", o)\n",
    "    d={\"min\":min(res), \"q1\":q1, \"q2\":q2, \"q3\":q3, \"max\":max(res)}\n",
    "    return d"
   ]
  },
  {
   "cell_type": "code",
   "execution_count": 5,
   "metadata": {},
   "outputs": [
    {
     "name": "stdout",
     "output_type": "stream",
     "text": [
      "The following are outliers:  [0, 0, 14]\n",
      "{'min': 35, 'q1': 63.0, 'q2': 78.0, 'q3': 87.0, 'max': 100}\n"
     ]
    }
   ],
   "source": [
    "print(q_summary_V1(grades))"
   ]
  },
  {
   "cell_type": "code",
   "execution_count": 6,
   "metadata": {},
   "outputs": [
    {
     "name": "stdout",
     "output_type": "stream",
     "text": [
      "The following are outliers:  [89]\n",
      "{'min': 5, 'q1': 15.0, 'q2': 22.5, 'q3': 41.25, 'max': 65}\n"
     ]
    }
   ],
   "source": [
    "print(q_summary_V1(times))"
   ]
  },
  {
   "cell_type": "code",
   "execution_count": null,
   "metadata": {},
   "outputs": [],
   "source": []
  },
  {
   "cell_type": "code",
   "execution_count": null,
   "metadata": {},
   "outputs": [],
   "source": []
  },
  {
   "cell_type": "code",
   "execution_count": null,
   "metadata": {},
   "outputs": [],
   "source": []
  },
  {
   "cell_type": "markdown",
   "metadata": {},
   "source": [
    "### Please answer Problem 3 below:"
   ]
  },
  {
   "cell_type": "code",
   "execution_count": 7,
   "metadata": {},
   "outputs": [],
   "source": [
    "def get_quantile_indexes(p, n):\n",
    "    '''\n",
    "    Calculate index values as input for interpolation\n",
    "    \n",
    "    input\n",
    "    _____\n",
    "    n (list) - the list of numbers\n",
    "    p (float) - the percentage corresponding to the quantile (ex:0.25)\n",
    "    \n",
    "    output\n",
    "    ______\n",
    "    l, i, u (float) - the corresponding x1, x, x1 values as calculated via class\n",
    "    '''\n",
    "    i = p*(n+1) - 1\n",
    "    l = numpy.floor(i)\n",
    "    u = numpy.ceil(i)\n",
    "    return l,i,u\n",
    "\n",
    "\n",
    "def get_quantile(nums, q):\n",
    "    '''\n",
    "    Use the in-class method of interpolation to calculate the quantile\n",
    "    \n",
    "    input\n",
    "    _____\n",
    "    nums (list) - the list of numbers\n",
    "    q (float) - the quantile desired\n",
    "    \n",
    "    output\n",
    "    ______\n",
    "    y (int/float) - this is the value in nums at the given quantile q\n",
    "    '''\n",
    "    x1, x, x2 = get_quantile_indexes(q, len(nums))\n",
    "    if numpy.floor(x) == x1 and numpy.ceil(x) == x1:\n",
    "        x = int(x)\n",
    "        y = nums[x]\n",
    "        # print('x = {}, y = {}'.format(x, y))\n",
    "        return y\n",
    "        \n",
    "    # print('x1, x, x2 = {}, {}, {}'.format(x1, x, x2))\n",
    "    y1, y2 = nums[int(x1)], nums[int(x2)]\n",
    "    # print('y1, y2 = {}, {}'.format(y1, y2))\n",
    "    y = (x - x1) * (y1-y2) / (x1 - x2) + y1\n",
    "    # print('y =', y)\n",
    "    return y\n",
    "\n",
    "def  q_summary_V2(ds):\n",
    "    q1 = get_quantile(ds, .25)\n",
    "    q2 = get_quantile(ds, .50)\n",
    "    q3 = get_quantile(ds, .75)\n",
    "    \n",
    "    #get IQR\n",
    "    iqr = q3-q1\n",
    "    upper = q3+1.5*iqr\n",
    "    lower = q1-1.5*iqr\n",
    "    o=[]\n",
    "    \n",
    "    #get list of outliers\n",
    "    for num in ds:\n",
    "        if num < lower or num > upper:\n",
    "            o.append(num)\n",
    "    \n",
    "    #remove outliers from ds\n",
    "    res = [i for i in ds if i not in o] \n",
    "    \n",
    "    if len(o) != 0: \n",
    "        print(\"The following are outliers: \", o)\n",
    "    d={\"min\":min(res), \"q1\":q1, \"q2\":q2, \"q3\":q3, \"max\":max(res)}\n",
    "    return d"
   ]
  },
  {
   "cell_type": "code",
   "execution_count": 8,
   "metadata": {},
   "outputs": [
    {
     "name": "stdout",
     "output_type": "stream",
     "text": [
      "{'min': 0, 'q1': 49.0, 'q2': 78, 'q3': 88.0, 'max': 100}\n"
     ]
    }
   ],
   "source": [
    "print(q_summary_V2(grades))"
   ]
  },
  {
   "cell_type": "code",
   "execution_count": 9,
   "metadata": {},
   "outputs": [
    {
     "name": "stdout",
     "output_type": "stream",
     "text": [
      "The following are outliers:  [89]\n",
      "{'min': 5, 'q1': 15.0, 'q2': 22.5, 'q3': 43.75, 'max': 65}\n"
     ]
    }
   ],
   "source": [
    "print(q_summary_V2(times))"
   ]
  },
  {
   "cell_type": "code",
   "execution_count": null,
   "metadata": {},
   "outputs": [],
   "source": []
  },
  {
   "cell_type": "code",
   "execution_count": null,
   "metadata": {},
   "outputs": [],
   "source": []
  }
 ],
 "metadata": {
  "kernelspec": {
   "display_name": "Python 3",
   "language": "python",
   "name": "python3"
  },
  "language_info": {
   "codemirror_mode": {
    "name": "ipython",
    "version": 3
   },
   "file_extension": ".py",
   "mimetype": "text/x-python",
   "name": "python",
   "nbconvert_exporter": "python",
   "pygments_lexer": "ipython3",
   "version": "3.7.4"
  }
 },
 "nbformat": 4,
 "nbformat_minor": 2
}
