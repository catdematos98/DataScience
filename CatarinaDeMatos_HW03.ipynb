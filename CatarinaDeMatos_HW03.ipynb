{
 "cells": [
  {
   "cell_type": "code",
   "execution_count": 1,
   "metadata": {},
   "outputs": [],
   "source": [
    "# Author: Catarina DeMatos\n",
    "# Date: 20200214\n",
    "# CS301-006, Professor Watson\n",
    "# HW03 Solution\n",
    "# finding outliers and std deviants\n",
    "# link to the git repo (https://github.com/catdematos98/HW03)\n",
    "# latest commit: \n",
    "# name-of-the-branch (master)"
   ]
  },
  {
   "cell_type": "code",
   "execution_count": 2,
   "metadata": {},
   "outputs": [],
   "source": [
    "import pandas as pd"
   ]
  },
  {
   "cell_type": "code",
   "execution_count": 3,
   "metadata": {},
   "outputs": [],
   "source": [
    "def data_reader(data_path):\n",
    "    try:\n",
    "        frame = pd.read_csv(data_path)\n",
    "        print(\"The shape is: \", end='')\n",
    "        print(frame.shape)\n",
    "        return frame\n",
    "    except:\n",
    "        print(\"Error during reading, please try again.\")\n",
    "        return None\n"
   ]
  },
  {
   "cell_type": "code",
   "execution_count": 4,
   "metadata": {},
   "outputs": [
    {
     "name": "stdout",
     "output_type": "stream",
     "text": [
      "The shape is: (193, 6)\n"
     ]
    }
   ],
   "source": [
    "my = data_reader('C:\\\\Users\\\\CAT\\\\Desktop\\\\Python\\\\drinks.csv')"
   ]
  },
  {
   "cell_type": "code",
   "execution_count": 10,
   "metadata": {},
   "outputs": [
    {
     "name": "stdout",
     "output_type": "stream",
     "text": [
      "Error during reading, please try again.\n"
     ]
    }
   ],
   "source": [
    "my = data_reader('i_dont_exist.csv')"
   ]
  },
  {
   "cell_type": "code",
   "execution_count": 5,
   "metadata": {},
   "outputs": [],
   "source": [
    "def get_num_outliers(df, col):\n",
    "    q1 = df[col].quantile(.25)\n",
    "    q3  = df[col].quantile(.75)\n",
    "    iqr = q3-q1\n",
    "    \n",
    "    upper = q3+1.5*iqr\n",
    "    lower = q1-1.5*iqr\n",
    "    \n",
    "    count = 0\n",
    "    for item in df[col]:\n",
    "        if item < lower or item > upper:\n",
    "            count+=1\n",
    "    return count\n",
    "\n"
   ]
  },
  {
   "cell_type": "code",
   "execution_count": 6,
   "metadata": {},
   "outputs": [
    {
     "name": "stdout",
     "output_type": "stream",
     "text": [
      "26\n"
     ]
    }
   ],
   "source": [
    "print(get_num_outliers(my, 'wine_servings'))"
   ]
  },
  {
   "cell_type": "code",
   "execution_count": 7,
   "metadata": {},
   "outputs": [],
   "source": [
    "def get_num_deviants(df, col, multiplier):\n",
    "    std = df[col].std()\n",
    "    std *= multiplier\n",
    "    mean = df[col].mean()\n",
    "    count = 0\n",
    "    for item in df[col]:\n",
    "        if item > std+mean:\n",
    "            count+=1\n",
    "    return count"
   ]
  },
  {
   "cell_type": "code",
   "execution_count": 8,
   "metadata": {},
   "outputs": [
    {
     "name": "stdout",
     "output_type": "stream",
     "text": [
      "28\n"
     ]
    }
   ],
   "source": [
    "print(get_num_deviants(my, 'wine_servings', 1))"
   ]
  },
  {
   "cell_type": "code",
   "execution_count": 9,
   "metadata": {},
   "outputs": [
    {
     "name": "stdout",
     "output_type": "stream",
     "text": [
      "15\n"
     ]
    }
   ],
   "source": [
    "print(get_num_deviants(my, 'wine_servings', 2))"
   ]
  }
 ],
 "metadata": {
  "kernelspec": {
   "display_name": "Python 3",
   "language": "python",
   "name": "python3"
  },
  "language_info": {
   "codemirror_mode": {
    "name": "ipython",
    "version": 3
   },
   "file_extension": ".py",
   "mimetype": "text/x-python",
   "name": "python",
   "nbconvert_exporter": "python",
   "pygments_lexer": "ipython3",
   "version": "3.7.4"
  }
 },
 "nbformat": 4,
 "nbformat_minor": 2
}
